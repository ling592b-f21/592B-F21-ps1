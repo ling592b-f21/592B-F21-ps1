{
 "cells": [
  {
   "cell_type": "markdown",
   "id": "fbcc61fc-387d-4c7d-8c33-ada6bcc6cd73",
   "metadata": {},
   "source": [
    "# 592B-F21 Problem Set 1: Sinusoids and digital signals [42 pts total]\n",
    "\n",
    "*This assignment is due by 11:59PM on Thursday, September 16. Please push your final commits to your repository by then. We will then pull your repository, make comments and grade it, and push our changes so you can get our feedback. We should be able to just run your notebook.*\n",
    "\n",
    "**Before you work through this notebook, you should:**\n",
    "\n",
    "- *Familiarize yourself with python, jupyter notebooks, and basic plotting*: work through Software Carpentry's [Plotting and Programming in Python tutorial](http://swcarpentry.github.io/python-novice-gapminder/), up through Section 9 on plotting\n",
    "- *Make sure you understand analog to digital conversion of speech signals*: review the [Class 1.2 slides](https://ling592b.krisyu.org/slides/592B-F21_1-2.pdf) and the [Class 2.1 slides](https://ling592b.krisyu.org/slides/592B-F21_2-1.pdf) and notebooks from class and watch the [sampling video lecture](https://wordpress.krisyu.org/wp-admin/admin-ajax.php?action=h5p_embed&id=5), the [quantization video lecture](https://wordpress.krisyu.org/wp-admin/admin-ajax.php?action=h5p_embed&id=6), and also the video lecture on [quantization and bits](https://youtu.be/K5VhfFoCIIs).\n",
    "- *Familiarize yourself with version control with Git*: work through Software Carpentry's [Version Control with Git tutorial](https://swcarpentry.github.io/git-novice/). Don't forget to follow their instructions for [setup](https://carpentries.github.io/workshop-template/#git)!\n",
    "\n"
   ]
  },
  {
   "cell_type": "markdown",
   "id": "e9fe072e-90e2-4f34-bda9-853b95747c82",
   "metadata": {},
   "source": [
    "## Part 1. Sinusoids [6 pts]\n",
    "\n",
    "A standard definition of a sinusoidal signal (i.e., a sine wave) is given as function of time $t$:\n",
    "\n",
    "$$y(t) = A \\sin (\\omega t + \\phi) $$\n",
    "\n",
    "where:\n",
    "- $A$ is the amplitude\n",
    "- $\\omega$ is the angular frequency, n.b., $\\omega = 2\\pi f$ (where $f$ is the frequency in cycles per second (Hertz or Hz))\n",
    "- $\\phi$ is the phase shift \n",
    "\n",
    "In particular, let's define:\n",
    "$$y_1(t) = \\sin \\left(880\\pi t\\right) $$\n",
    "$$y_2(t) = 0.5 \\sin \\left(440\\pi t + \\frac{\\pi}{2} \\right) $$\n",
    "\n"
   ]
  },
  {
   "cell_type": "markdown",
   "id": "ed60ed8a-ca04-4305-a6a6-c39fb6f1de75",
   "metadata": {},
   "source": [
    "***Exercise 1: What are $A$, $\\omega$, $f$ and $\\phi$ for $y_1(t)$ and $y_2(t)$?*** [4 pts]\n"
   ]
  },
  {
   "cell_type": "markdown",
   "id": "c9ecbf34-4a97-4405-ad28-c77855b28422",
   "metadata": {},
   "source": [
    "*Write your answers here, in a markdown cell*"
   ]
  },
  {
   "cell_type": "markdown",
   "id": "0c84ce8d-ba86-4360-a86a-81821aca245f",
   "metadata": {},
   "source": [
    "***Exercise 2: Recall that the period of a sinusoid (the duration of one cycle) is defined as $T = 1/f$. What is the period of $y_1(t)$? What is the period of $y_2(t)$?*** [2 pts]"
   ]
  },
  {
   "cell_type": "code",
   "execution_count": 1,
   "id": "18475509-302d-4679-ac59-4f283ca934a9",
   "metadata": {},
   "outputs": [],
   "source": [
    "# Show your code here to do the calculations, in a \"code\" cell. \n",
    "# Make sure to use print() commands so we can see the output of your computations"
   ]
  },
  {
   "cell_type": "markdown",
   "id": "b358439c-885e-41e3-9098-7b38f4fbcd4f",
   "metadata": {},
   "source": [
    "## Part 2. Digital signals [36 pts]\n",
    "\n",
    "Let's get back to $y_1(t)$ and $y_2(t)$. Say we choose to have a sampling rate $f_s=100\\,Hz$ for digitally representing $y_1(t)$ and $y_2(t)$. And let's say that the signals are each 10 seconds long, so let's have our sampled time points run from $t=0$ to $t=10$. That means we'll need to create a vector of values going from 0 to 10, with a sampling interval $T_s$ corresponding to $f_s=100$."
   ]
  },
  {
   "cell_type": "markdown",
   "id": "46025ee0-b663-4687-b121-ee79edc5a4f9",
   "metadata": {},
   "source": [
    "***Exercise 3: what is the corresponding sampling interval $T_s$, if the sampling rate $f_s$ is 100 Hz? How many sampled timepoints are there for $y_1(t)$? How many sampled timepoints are there for $y_2(t)$?*** [3 pts]"
   ]
  },
  {
   "cell_type": "code",
   "execution_count": 2,
   "id": "01402bf8-08d1-42c4-855a-b95c45a642ff",
   "metadata": {},
   "outputs": [],
   "source": [
    "# Show your code here to do the calculations, in a \"code\" cell. \n",
    "# Make sure to use print() commands so we can see the output of your computations\n",
    "# (You can insert a Markdown cell to write out answers, too.)"
   ]
  },
  {
   "cell_type": "markdown",
   "id": "15b8a310-f163-49f4-a85d-1c61f3c773e6",
   "metadata": {},
   "source": [
    "***Exercise 4a: What is the sampling interval $T_s$ if the sampling rate $f_s$ is 44.1 kHz?*** [1 pt]\n",
    "\n",
    "***Exercise 4b: CD quality bit depth is 16-bit. However, nowadays 24-bit and even 32-bit audio is [getting more common](https://www.zdnet.com/article/simplify-digital-audio-with-32-bit-float/). (And there are a ton of articles on the web debating the merits of having these higher bit depths, e.g., [this one on 32 bit digital-to-analog converters in smartphones](https://www.androidauthority.com/why-you-dont-want-that-32-bit-dac-667621/).) With those bit depths, into how many values is the amplitude range divided up?*** [2 pts]\n",
    "\n",
    "**Enter your code and/or answers for Exercise 4 in cells below. Create additional cells if you need them.**"
   ]
  },
  {
   "cell_type": "code",
   "execution_count": null,
   "id": "ecaf6ce9-aea1-4252-9dad-012971cb38e6",
   "metadata": {},
   "outputs": [],
   "source": []
  },
  {
   "cell_type": "markdown",
   "id": "4128a905-6803-4fe1-af17-e36ee9cfd8c4",
   "metadata": {},
   "source": [
    "***Exercise 5: Exploring effects of sampling rate.*** [15 pts total]\n",
    "\n",
    "Consider the following sinusoids:\n",
    "\n",
    "$$sig_1(t) = \\sin \\left(1046\\pi t\\right) $$\n",
    "\n",
    "$$sig_2(t) = \\sin \\left(1568\\pi t\\right) $$\n",
    "\n",
    "1. What are $A$, $\\omega$, $f$, $T$ and $\\phi$ for $sig_1(t)$ and $sig_2(t)$? [5 pts]\n",
    "2. Consider the following sampling rates: 44.1 kHz, 4 kHz, 1200 Hz, and 1000 Hz. For each sampling rate, generate a plot showing $sig_1(t)$ and $sig_2(t)$ sampled at that sampling rate (you can do a line plot or a lollipop plot). Make sure that you set the x-axis limits so you can actually have a meaningful visual comparison between the two signals! Describe how the two signals are different, using your plots. [10 pts]\n",
    "3. Use IPython.display's `Audio` to generate playable audio at each of the sampling rates. Describe how the sampling rate affects how the signals sound, and how the sound of $sig_1$ compares to $sig_2$ at these different sampling rates. [5 pts]\n",
    "\n",
    "**Enter your code and/or answers for Exercise 5 in the cell below. Create additional cells if you need them.**\n"
   ]
  },
  {
   "cell_type": "code",
   "execution_count": null,
   "id": "d33717e8-2208-4017-9040-e05a98740302",
   "metadata": {},
   "outputs": [],
   "source": []
  },
  {
   "cell_type": "markdown",
   "id": "95f1ce07-76b9-4488-adc2-0fc6dfb72276",
   "metadata": {},
   "source": [
    "***Exercise 6: Exploring signal amplitude in pure tones from Praat.*** [15 pts total]\n",
    "\n",
    "***Recall our notebook from Class 2.2. Based on that notebook,***\n",
    "\n",
    "***1. Create three pure tone files in Praat, using the `Sound > Create sound as pure tone...` command in the object window. Both files should be 2 seconds long, have CD-quality sampling rate, and be 220 Hz. But they should have 3 different amplitudes:***\n",
    "\n",
    "   - 0.4 Pa\n",
    "   - 1 Pa\n",
    "   - 10 Pa\n",
    "   \n",
    "***Save your files as WAV files (regular WAV files) and make sure to have informative filenames. Include these files in a subdirectory in your repository. Below, list each filename and tell us what parameters you set for each file. Also make a comment about how they sound compared to one another.*** [3 pts]\n",
    "\n"
   ]
  },
  {
   "cell_type": "code",
   "execution_count": null,
   "id": "42f84491-c923-4189-b0ed-a904b80f1aad",
   "metadata": {},
   "outputs": [],
   "source": []
  },
  {
   "cell_type": "markdown",
   "id": "1a6ab0a1-05e3-4597-a6f6-e3f80c2369a5",
   "metadata": {},
   "source": [
    "**2. Read all of your created audio files into Python. What is the sampling rate. What is the bit depth? (Show your code! Add a markdown cell to explain your answer if needed.)** [2 pts]   "
   ]
  },
  {
   "cell_type": "code",
   "execution_count": null,
   "id": "78372574-396c-45c8-b3e0-e483cd99153b",
   "metadata": {},
   "outputs": [],
   "source": []
  },
  {
   "cell_type": "markdown",
   "id": "f60e44a4-8cf7-4ec4-bd59-5aaa32636844",
   "metadata": {},
   "source": [
    "**3. Plot an excerpt of all three signals on a single plot and also determine the range of values in each signal. Describe how the three signals are the same and how they are different, why they have the range of values they do, and how your description might relate to what the signals sound like.** [10 pts]"
   ]
  },
  {
   "cell_type": "code",
   "execution_count": null,
   "id": "cbaac026-e5e6-4672-bb74-ca4ac817d152",
   "metadata": {},
   "outputs": [],
   "source": []
  }
 ],
 "metadata": {
  "kernelspec": {
   "display_name": "Python 3",
   "language": "python",
   "name": "python3"
  },
  "language_info": {
   "codemirror_mode": {
    "name": "ipython",
    "version": 3
   },
   "file_extension": ".py",
   "mimetype": "text/x-python",
   "name": "python",
   "nbconvert_exporter": "python",
   "pygments_lexer": "ipython3",
   "version": "3.7.7"
  }
 },
 "nbformat": 4,
 "nbformat_minor": 5
}
